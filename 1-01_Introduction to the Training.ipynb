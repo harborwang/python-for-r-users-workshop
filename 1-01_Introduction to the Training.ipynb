{
 "cells": [
  {
   "cell_type": "markdown",
   "metadata": {},
   "source": [
    "#  Overview"
   ]
  },
  {
   "cell_type": "markdown",
   "metadata": {},
   "source": [
    "This course has been designed to introduce Python in a way that means you can quickly get started with data analysis, building on your R knowledge. This includes functions for importing, manipulating and visualising data as well as some basic statistical analysis. With the emphasis on using Python for these tasks there will be a number of features of Python that would be taught in a typical programming course that we will not cover, including some of Python's in-built objects and their methods, working with matrices and arrays in NumPy and conditional flow and function writing. Where appropriate the material includes notes for further reference."
   ]
  },
  {
   "cell_type": "markdown",
   "metadata": {},
   "source": [
    "# Format of Course Material"
   ]
  },
  {
   "cell_type": "markdown",
   "metadata": {},
   "source": [
    "Items appearing in this material are sometimes given a special appearance to set them apart\n",
    "from regular text. Here is how a code example will look:"
   ]
  },
  {
   "cell_type": "code",
   "execution_count": 2,
   "metadata": {},
   "outputs": [
    {
     "data": {
      "text/plain": [
       "3"
      ]
     },
     "execution_count": 2,
     "metadata": {},
     "output_type": "execute_result"
    }
   ],
   "source": [
    "myvar = 1 + 2 # This is a comment\n",
    "myvar"
   ]
  },
  {
   "cell_type": "markdown",
   "metadata": {},
   "source": [
    "The format of these code blocks emulates how the code would be run in an interactive Python\n",
    "console, with lines starting with the prompt `>>>` showing input lines of code, and those without\n",
    "the prompt displaying the outputs you would expect to be returned on screen."
   ]
  },
  {
   "cell_type": "markdown",
   "metadata": {},
   "source": [
    "In addition to the code environments there are three text boxes which highlight Exercises, Tips\n",
    "& Tricks, as well as Warnings."
   ]
  },
  {
   "cell_type": "markdown",
   "metadata": {},
   "source": [
    "**Exercise: An Example Exercise Box** \n",
    "\n",
    "This box will detail exercises to be performed during (or after) the training course, e.g.,\n",
    "\n",
    "1. Load mtcars dataset into a data frame.\n",
    "2. Find the mean values of each column."
   ]
  },
  {
   "cell_type": "markdown",
   "metadata": {},
   "source": [
    "**Tip: An Example Tip Box**\n",
    "\n",
    "These boxes will detail an additional feature of Python or a helpful shortcut based on user experience."
   ]
  },
  {
   "cell_type": "markdown",
   "metadata": {},
   "source": [
    "**Warning: An Example Warning Box** \n",
    "\n",
    "These boxes will detail a warning, typically describing non-intuitive aspects of the Python language or common pitfalls that are encountered."
   ]
  },
  {
   "cell_type": "markdown",
   "metadata": {},
   "source": [
    "## Course Script and Exercise Answers"
   ]
  },
  {
   "cell_type": "markdown",
   "metadata": {},
   "source": [
    "A great deal of code will be executed within Python during the delivery of this training. This includes the answers to each exercise, as well as other code written to answer questions that arise. Following the course, you will be sent a notebook containing all the code that was executed."
   ]
  },
  {
   "cell_type": "markdown",
   "metadata": {},
   "source": [
    "# What is Python?"
   ]
  },
  {
   "cell_type": "markdown",
   "metadata": {},
   "source": [
    "Python is a powerful general purpose programming language with widespread use in many\n",
    "applications domains. Python is open source and free\n",
    "to use (even for commercial products), and available for all major operating systems."
   ]
  },
  {
   "cell_type": "markdown",
   "metadata": {},
   "source": [
    "The principal author of Python Guido van Rossum, who began work on it in the 1980’s, played a central role in its development as president of the Python Software Foundation (PSF) until the summer of 2018. In his absence, the non-profit organization will continue to be devoted to the Python programming language and its administration. Python has many contributors from all over the world, and the PSF is supported by many international sponsors."
   ]
  },
  {
   "cell_type": "markdown",
   "metadata": {},
   "source": [
    "## Key Features"
   ]
  },
  {
   "cell_type": "markdown",
   "metadata": {},
   "source": [
    "The main differentiating factors of the Python language can be described as follows:\n",
    "\n",
    "* At its core Python was designed for readability and clarity, and therefore has minimised the necessary syntax, making it easier to pick up and understand code you did not write.\n",
    "* Python comes with an extensive standard library, but also allows easy addition of custom libraries.\n",
    "\n",
    "Many ways exist to interface Python with other languages meaning that Python works well as 'glue' in many development applications. A few other advantages with working in Python are:\n",
    "\n",
    "* The multiple-purpose language allows for easier integration between your data science, data engineering and software development teams.\n",
    "* Python is multi-threaded making parallelisation easier.\n"
   ]
  },
  {
   "cell_type": "markdown",
   "metadata": {},
   "source": [
    "## The Python Web Site"
   ]
  },
  {
   "cell_type": "markdown",
   "metadata": {},
   "source": [
    "There are many online Python resources, almost all of which can be reached via the main\n",
    "Python site: [http://www.python.org/](http://www.python.org/). From this site you can do many things, including:"
   ]
  },
  {
   "cell_type": "markdown",
   "metadata": {},
   "source": [
    "* Download the latest copy of the core Python language.\n",
    "* Find links, source code and documentation to many additional Python libraries.\n",
    "* Find help on the use of Python in the online wiki.\n",
    "* Join the \"Python-Help\" mailing list.\n",
    "* Look for Python books and events."
   ]
  },
  {
   "cell_type": "markdown",
   "metadata": {},
   "source": [
    "##  Python Versions"
   ]
  },
  {
   "cell_type": "markdown",
   "metadata": {},
   "source": [
    "The most current version of Python is 3.6 and is the focus of this course. The rest of this section\n",
    "elaborates more on the history of Python versions and why this distinction is important."
   ]
  },
  {
   "cell_type": "markdown",
   "metadata": {},
   "source": [
    "In 2010 Python 3.0 was released, and introduced a range of improvements to clean up the base\n",
    "language and improve its efficiency. However, some of these changes required fundamental\n",
    "changes under the hood, and the decision was made to focus on new features and future\n",
    "enhancements to the Python language, rather than patching them onto legacy code. For this\n",
    "reason, Python 3 is intentionally not backward-compatible with previous versions."
   ]
  },
  {
   "cell_type": "markdown",
   "metadata": {},
   "source": [
    "This obviously has some knock-on effects, and even though the changes to syntax and usability\n",
    "of the language are minimal, it has resulted in a protracted effort to port over the vast amount\n",
    "of 3rd party libraries that have previously been written."
   ]
  },
  {
   "cell_type": "markdown",
   "metadata": {},
   "source": [
    "Python 2.7.x is still the most widely used version mostly because of the concern over library\n",
    "compatibility mentioned above. However Python 2 is in its end of life stage (sunset in 2020), meaning that there will never be a Python 2.8 release as all future development of the language is now focused on Python 3."
   ]
  },
  {
   "cell_type": "markdown",
   "metadata": {},
   "source": [
    "This course is taught using Python 3 as it has more consistent syntax for beginners to become\n",
    "familiar with, and will future proof any code that trainees end up writing after the course."
   ]
  },
  {
   "cell_type": "markdown",
   "metadata": {},
   "source": [
    "**Tip: Python 3 Compatibility**\n",
    "\n",
    "A list of the top 360 Python packages and their compatibility with Python 3 is available from [http://py3readiness.org/](http://py3readiness.org/). Also, a detailed discussion of the differences between Python 2 and Python 3 can be found at [https://wiki.python.org/moin/Python2orPython3](https://wiki.python.org/moin/Python2orPython3) "
   ]
  },
  {
   "cell_type": "markdown",
   "metadata": {},
   "source": [
    "## The Python Package Index (PyPI)"
   ]
  },
  {
   "cell_type": "markdown",
   "metadata": {},
   "source": [
    "Similar to the R community, the Python community has actively produced many libraries of new classes and functions for Python (called packages), which extend the capabilities of Python in many directions. The Python Package Index (PyPI) is the main repository for these packages, and at the time of writing there are over 90,000 packages available to download."
   ]
  }
 ],
 "metadata": {
  "anaconda-cloud": {},
  "kernelspec": {
   "display_name": "Python 3",
   "language": "python",
   "name": "python3"
  },
  "language_info": {
   "codemirror_mode": {
    "name": "ipython",
    "version": 3
   },
   "file_extension": ".py",
   "mimetype": "text/x-python",
   "name": "python",
   "nbconvert_exporter": "python",
   "pygments_lexer": "ipython3",
   "version": "3.12.2"
  },
  "toc": {
   "colors": {
    "hover_highlight": "#DAA520",
    "navigate_num": "#000000",
    "navigate_text": "#333333",
    "running_highlight": "#FF0000",
    "selected_highlight": "#FFD700",
    "sidebar_border": "#EEEEEE",
    "wrapper_background": "#FFFFFF"
   },
   "moveMenuLeft": true,
   "nav_menu": {
    "height": "216px",
    "width": "252px"
   },
   "navigate_menu": true,
   "number_sections": false,
   "sideBar": true,
   "threshold": 4,
   "toc_cell": false,
   "toc_position": {
    "height": "603px",
    "left": "0px",
    "right": "1108px",
    "top": "107px",
    "width": "212px"
   },
   "toc_section_display": "block",
   "toc_window_display": true,
   "widenNotebook": false
  }
 },
 "nbformat": 4,
 "nbformat_minor": 2
}
